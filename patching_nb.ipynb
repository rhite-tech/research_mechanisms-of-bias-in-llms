{
 "cells": [
  {
   "cell_type": "code",
   "execution_count": 60,
   "metadata": {},
   "outputs": [],
   "source": [
    "import plotly.express as px\n",
    "import json\n",
    "# from nnsight import LanguageModel\n",
    "import json\n",
    "import numpy as np"
   ]
  },
  {
   "cell_type": "code",
   "execution_count": 30,
   "metadata": {},
   "outputs": [
    {
     "data": {
      "text/plain": [
       "10"
      ]
     },
     "execution_count": 30,
     "metadata": {},
     "output_type": "execute_result"
    }
   ],
   "source": [
    "len(logit_diffs[19])"
   ]
  },
  {
   "cell_type": "code",
   "execution_count": 61,
   "metadata": {},
   "outputs": [
    {
     "data": {
      "application/vnd.plotly.v1+json": {
       "config": {
        "plotlyServerURL": "https://plot.ly"
       },
       "data": [
        {
         "coloraxis": "coloraxis",
         "hovertemplate": "Token: %{x}<br>Layer: %{y}<br>color: %{z}<extra></extra>",
         "name": "0",
         "type": "heatmap",
         "x": [
          "He (138)",
          "is (139)",
          "a (140)",
          "normal (141)",
          "student (142)",
          ". (143)",
          "This (144)",
          "statement (145)",
          "is (146)",
          ": (147)"
         ],
         "xaxis": "x",
         "yaxis": "y",
         "z": [
          [
           -1.375,
           -1.375,
           -1.375,
           0.75,
           -1.5,
           -1.375,
           -1.375,
           -1.375,
           -1.5,
           -1.375
          ],
          [
           -1.375,
           -1.375,
           -1.375,
           0.75,
           -1.375,
           -1.5,
           -1.5,
           -1.375,
           -1.375,
           -1.375
          ],
          [
           -1.375,
           -1.375,
           -1.375,
           0.75,
           -1.375,
           -1.5,
           -1.375,
           -1.5,
           -1.375,
           -1.375
          ],
          [
           -1.375,
           -1.375,
           -1.375,
           0.625,
           -1.25,
           -1.375,
           -1.5,
           -1.5,
           -1.375,
           -1.375
          ],
          [
           -1.375,
           -1.375,
           -1.375,
           0.5,
           -1.125,
           -1.125,
           -1.5,
           -1.5,
           -1.375,
           -1.375
          ],
          [
           -1.375,
           -1.375,
           -1.375,
           0.5,
           -1.125,
           -1.125,
           -1.375,
           -1.5,
           -1.375,
           -1.5
          ],
          [
           -1.375,
           -1.375,
           -1.375,
           0.25,
           -1,
           -0.875,
           -1.5,
           -1.5,
           -1.5,
           -1.375
          ],
          [
           -1.375,
           -1.375,
           -1.375,
           0,
           -1.125,
           -0.875,
           -1.5,
           -1.5,
           -1.5,
           -1.375
          ],
          [
           -1.375,
           -1.375,
           -1.375,
           0,
           -1,
           -0.875,
           -1.5,
           -1.5,
           -1.375,
           -1.375
          ],
          [
           -1.375,
           -1.375,
           -1.375,
           -0.25,
           -0.875,
           -0.625,
           -1.375,
           -1.5,
           -1.5,
           -1.375
          ],
          [
           -1.375,
           -1.375,
           -1.375,
           -0.375,
           -1,
           -0.375,
           -1.375,
           -1.5,
           -1.5,
           -1.25
          ],
          [
           -1.375,
           -1.375,
           -1.375,
           -0.875,
           -1,
           -0.375,
           -1.375,
           -1.5,
           -1.25,
           -0.5
          ],
          [
           -1.375,
           -1.375,
           -1.375,
           -1.125,
           -1.125,
           -0.375,
           -1.5,
           -1.5,
           -1.25,
           -0.25
          ],
          [
           -1.375,
           -1.375,
           -1.375,
           -1.25,
           -1.125,
           -0.5,
           -1.5,
           -1.5,
           -1.375,
           0
          ],
          [
           -1.375,
           -1.375,
           -1.375,
           -1.375,
           -1.375,
           -1.125,
           -1.5,
           -1.5,
           -1.25,
           0.375
          ],
          [
           -1.375,
           -1.375,
           -1.375,
           -1.375,
           -1.25,
           -1.125,
           -1.375,
           -1.5,
           -1.25,
           0.5
          ],
          [
           -1.375,
           -1.375,
           -1.375,
           -1.5,
           -1.375,
           -1.25,
           -1.375,
           -1.5,
           -1.25,
           0.625
          ],
          [
           -1.375,
           -1.375,
           -1.375,
           -1.375,
           -1.5,
           -1.375,
           -1.375,
           -1.5,
           -1.25,
           0.625
          ],
          [
           -1.375,
           -1.375,
           -1.375,
           -1.5,
           -1.5,
           -1.5,
           -1.5,
           -1.375,
           -1.5,
           0.75
          ],
          [
           -1.375,
           -1.375,
           -1.375,
           -1.5,
           -1.5,
           -1.5,
           -1.5,
           -1.5,
           -1.375,
           0.625
          ],
          [
           -1.375,
           -1.375,
           -1.375,
           -1.5,
           -1.5,
           -1.5,
           -1.375,
           -1.375,
           -1.375,
           0.625
          ],
          [
           -1.375,
           -1.375,
           -1.375,
           -1.5,
           -1.5,
           -1.5,
           -1.5,
           -1.5,
           -1.375,
           0.625
          ],
          [
           -1.375,
           -1.375,
           -1.375,
           -1.5,
           -1.5,
           -1.5,
           -1.375,
           -1.375,
           -1.375,
           0.625
          ],
          [
           -1.375,
           -1.375,
           -1.375,
           -1.5,
           -1.5,
           -1.5,
           -1.5,
           -1.5,
           -1.5,
           0.625
          ],
          [
           -1.375,
           -1.375,
           -1.375,
           -1.375,
           -1.5,
           -1.5,
           -1.5,
           -1.5,
           -1.5,
           0.625
          ],
          [
           -1.375,
           -1.375,
           -1.375,
           -1.5,
           -1.5,
           -1.5,
           -1.5,
           -1.5,
           -1.375,
           0.625
          ],
          [
           -1.375,
           -1.375,
           -1.375,
           -1.5,
           -1.5,
           -1.5,
           -1.5,
           -1.5,
           -1.5,
           0.625
          ],
          [
           -1.375,
           -1.375,
           -1.375,
           -1.5,
           -1.5,
           -1.5,
           -1.5,
           -1.5,
           -1.375,
           0.625
          ],
          [
           -1.375,
           -1.375,
           -1.375,
           -1.5,
           -1.5,
           -1.5,
           -1.375,
           -1.5,
           -1.5,
           0.625
          ],
          [
           -1.375,
           -1.375,
           -1.375,
           -1.5,
           -1.5,
           -1.5,
           -1.5,
           -1.5,
           -1.5,
           0.625
          ],
          [
           -1.375,
           -1.375,
           -1.375,
           -1.5,
           -1.5,
           -1.5,
           -1.5,
           -1.5,
           -1.375,
           0.625
          ],
          [
           -1.375,
           -1.375,
           -1.375,
           -1.5,
           -1.5,
           -1.5,
           -1.375,
           -1.5,
           -1.5,
           0.625
          ],
          [
           -1.375,
           -1.375,
           -1.375,
           -1.5,
           -1.5,
           -1.5,
           -1.5,
           -1.5,
           -1.5,
           0.625
          ],
          [
           -1.375,
           -1.375,
           -1.375,
           -1.5,
           -1.5,
           -1.5,
           -1.5,
           -1.5,
           -1.5,
           0.625
          ],
          [
           -1.375,
           -1.375,
           -1.375,
           -1.5,
           -1.5,
           -1.5,
           -1.5,
           -1.5,
           -1.5,
           0.625
          ],
          [
           -1.375,
           -1.375,
           -1.375,
           -1.5,
           -1.5,
           -1.5,
           -1.5,
           -1.5,
           -1.375,
           0.75
          ],
          [
           -1.375,
           -1.375,
           -1.375,
           -1.5,
           -1.5,
           -1.5,
           -1.5,
           -1.375,
           -1.5,
           0.625
          ],
          [
           -1.375,
           -1.375,
           -1.375,
           -1.5,
           -1.5,
           -1.5,
           -1.375,
           -1.375,
           -1.5,
           0.625
          ],
          [
           -1.375,
           -1.375,
           -1.375,
           -1.5,
           -1.375,
           -1.5,
           -1.375,
           -1.375,
           -1.5,
           0.75
          ],
          [
           -1.375,
           -1.375,
           -1.375,
           -1.375,
           -1.375,
           -1.375,
           -1.375,
           -1.375,
           -1.375,
           0.75
          ]
         ]
        }
       ],
       "layout": {
        "autosize": true,
        "coloraxis": {
         "cmax": 1,
         "cmin": -1.5,
         "colorscale": [
          [
           0,
           "rgb(247,251,255)"
          ],
          [
           0.125,
           "rgb(222,235,247)"
          ],
          [
           0.25,
           "rgb(198,219,239)"
          ],
          [
           0.375,
           "rgb(158,202,225)"
          ],
          [
           0.5,
           "rgb(107,174,214)"
          ],
          [
           0.625,
           "rgb(66,146,198)"
          ],
          [
           0.75,
           "rgb(33,113,181)"
          ],
          [
           0.875,
           "rgb(8,81,156)"
          ],
          [
           1,
           "rgb(8,48,107)"
          ]
         ]
        },
        "margin": {
         "t": 60
        },
        "template": {
         "data": {
          "bar": [
           {
            "error_x": {
             "color": "#2a3f5f"
            },
            "error_y": {
             "color": "#2a3f5f"
            },
            "marker": {
             "line": {
              "color": "#E5ECF6",
              "width": 0.5
             },
             "pattern": {
              "fillmode": "overlay",
              "size": 10,
              "solidity": 0.2
             }
            },
            "type": "bar"
           }
          ],
          "barpolar": [
           {
            "marker": {
             "line": {
              "color": "#E5ECF6",
              "width": 0.5
             },
             "pattern": {
              "fillmode": "overlay",
              "size": 10,
              "solidity": 0.2
             }
            },
            "type": "barpolar"
           }
          ],
          "carpet": [
           {
            "aaxis": {
             "endlinecolor": "#2a3f5f",
             "gridcolor": "white",
             "linecolor": "white",
             "minorgridcolor": "white",
             "startlinecolor": "#2a3f5f"
            },
            "baxis": {
             "endlinecolor": "#2a3f5f",
             "gridcolor": "white",
             "linecolor": "white",
             "minorgridcolor": "white",
             "startlinecolor": "#2a3f5f"
            },
            "type": "carpet"
           }
          ],
          "choropleth": [
           {
            "colorbar": {
             "outlinewidth": 0,
             "ticks": ""
            },
            "type": "choropleth"
           }
          ],
          "contour": [
           {
            "colorbar": {
             "outlinewidth": 0,
             "ticks": ""
            },
            "colorscale": [
             [
              0,
              "#0d0887"
             ],
             [
              0.1111111111111111,
              "#46039f"
             ],
             [
              0.2222222222222222,
              "#7201a8"
             ],
             [
              0.3333333333333333,
              "#9c179e"
             ],
             [
              0.4444444444444444,
              "#bd3786"
             ],
             [
              0.5555555555555556,
              "#d8576b"
             ],
             [
              0.6666666666666666,
              "#ed7953"
             ],
             [
              0.7777777777777778,
              "#fb9f3a"
             ],
             [
              0.8888888888888888,
              "#fdca26"
             ],
             [
              1,
              "#f0f921"
             ]
            ],
            "type": "contour"
           }
          ],
          "contourcarpet": [
           {
            "colorbar": {
             "outlinewidth": 0,
             "ticks": ""
            },
            "type": "contourcarpet"
           }
          ],
          "heatmap": [
           {
            "colorbar": {
             "outlinewidth": 0,
             "ticks": ""
            },
            "colorscale": [
             [
              0,
              "#0d0887"
             ],
             [
              0.1111111111111111,
              "#46039f"
             ],
             [
              0.2222222222222222,
              "#7201a8"
             ],
             [
              0.3333333333333333,
              "#9c179e"
             ],
             [
              0.4444444444444444,
              "#bd3786"
             ],
             [
              0.5555555555555556,
              "#d8576b"
             ],
             [
              0.6666666666666666,
              "#ed7953"
             ],
             [
              0.7777777777777778,
              "#fb9f3a"
             ],
             [
              0.8888888888888888,
              "#fdca26"
             ],
             [
              1,
              "#f0f921"
             ]
            ],
            "type": "heatmap"
           }
          ],
          "heatmapgl": [
           {
            "colorbar": {
             "outlinewidth": 0,
             "ticks": ""
            },
            "colorscale": [
             [
              0,
              "#0d0887"
             ],
             [
              0.1111111111111111,
              "#46039f"
             ],
             [
              0.2222222222222222,
              "#7201a8"
             ],
             [
              0.3333333333333333,
              "#9c179e"
             ],
             [
              0.4444444444444444,
              "#bd3786"
             ],
             [
              0.5555555555555556,
              "#d8576b"
             ],
             [
              0.6666666666666666,
              "#ed7953"
             ],
             [
              0.7777777777777778,
              "#fb9f3a"
             ],
             [
              0.8888888888888888,
              "#fdca26"
             ],
             [
              1,
              "#f0f921"
             ]
            ],
            "type": "heatmapgl"
           }
          ],
          "histogram": [
           {
            "marker": {
             "pattern": {
              "fillmode": "overlay",
              "size": 10,
              "solidity": 0.2
             }
            },
            "type": "histogram"
           }
          ],
          "histogram2d": [
           {
            "colorbar": {
             "outlinewidth": 0,
             "ticks": ""
            },
            "colorscale": [
             [
              0,
              "#0d0887"
             ],
             [
              0.1111111111111111,
              "#46039f"
             ],
             [
              0.2222222222222222,
              "#7201a8"
             ],
             [
              0.3333333333333333,
              "#9c179e"
             ],
             [
              0.4444444444444444,
              "#bd3786"
             ],
             [
              0.5555555555555556,
              "#d8576b"
             ],
             [
              0.6666666666666666,
              "#ed7953"
             ],
             [
              0.7777777777777778,
              "#fb9f3a"
             ],
             [
              0.8888888888888888,
              "#fdca26"
             ],
             [
              1,
              "#f0f921"
             ]
            ],
            "type": "histogram2d"
           }
          ],
          "histogram2dcontour": [
           {
            "colorbar": {
             "outlinewidth": 0,
             "ticks": ""
            },
            "colorscale": [
             [
              0,
              "#0d0887"
             ],
             [
              0.1111111111111111,
              "#46039f"
             ],
             [
              0.2222222222222222,
              "#7201a8"
             ],
             [
              0.3333333333333333,
              "#9c179e"
             ],
             [
              0.4444444444444444,
              "#bd3786"
             ],
             [
              0.5555555555555556,
              "#d8576b"
             ],
             [
              0.6666666666666666,
              "#ed7953"
             ],
             [
              0.7777777777777778,
              "#fb9f3a"
             ],
             [
              0.8888888888888888,
              "#fdca26"
             ],
             [
              1,
              "#f0f921"
             ]
            ],
            "type": "histogram2dcontour"
           }
          ],
          "mesh3d": [
           {
            "colorbar": {
             "outlinewidth": 0,
             "ticks": ""
            },
            "type": "mesh3d"
           }
          ],
          "parcoords": [
           {
            "line": {
             "colorbar": {
              "outlinewidth": 0,
              "ticks": ""
             }
            },
            "type": "parcoords"
           }
          ],
          "pie": [
           {
            "automargin": true,
            "type": "pie"
           }
          ],
          "scatter": [
           {
            "fillpattern": {
             "fillmode": "overlay",
             "size": 10,
             "solidity": 0.2
            },
            "type": "scatter"
           }
          ],
          "scatter3d": [
           {
            "line": {
             "colorbar": {
              "outlinewidth": 0,
              "ticks": ""
             }
            },
            "marker": {
             "colorbar": {
              "outlinewidth": 0,
              "ticks": ""
             }
            },
            "type": "scatter3d"
           }
          ],
          "scattercarpet": [
           {
            "marker": {
             "colorbar": {
              "outlinewidth": 0,
              "ticks": ""
             }
            },
            "type": "scattercarpet"
           }
          ],
          "scattergeo": [
           {
            "marker": {
             "colorbar": {
              "outlinewidth": 0,
              "ticks": ""
             }
            },
            "type": "scattergeo"
           }
          ],
          "scattergl": [
           {
            "marker": {
             "colorbar": {
              "outlinewidth": 0,
              "ticks": ""
             }
            },
            "type": "scattergl"
           }
          ],
          "scattermapbox": [
           {
            "marker": {
             "colorbar": {
              "outlinewidth": 0,
              "ticks": ""
             }
            },
            "type": "scattermapbox"
           }
          ],
          "scatterpolar": [
           {
            "marker": {
             "colorbar": {
              "outlinewidth": 0,
              "ticks": ""
             }
            },
            "type": "scatterpolar"
           }
          ],
          "scatterpolargl": [
           {
            "marker": {
             "colorbar": {
              "outlinewidth": 0,
              "ticks": ""
             }
            },
            "type": "scatterpolargl"
           }
          ],
          "scatterternary": [
           {
            "marker": {
             "colorbar": {
              "outlinewidth": 0,
              "ticks": ""
             }
            },
            "type": "scatterternary"
           }
          ],
          "surface": [
           {
            "colorbar": {
             "outlinewidth": 0,
             "ticks": ""
            },
            "colorscale": [
             [
              0,
              "#0d0887"
             ],
             [
              0.1111111111111111,
              "#46039f"
             ],
             [
              0.2222222222222222,
              "#7201a8"
             ],
             [
              0.3333333333333333,
              "#9c179e"
             ],
             [
              0.4444444444444444,
              "#bd3786"
             ],
             [
              0.5555555555555556,
              "#d8576b"
             ],
             [
              0.6666666666666666,
              "#ed7953"
             ],
             [
              0.7777777777777778,
              "#fb9f3a"
             ],
             [
              0.8888888888888888,
              "#fdca26"
             ],
             [
              1,
              "#f0f921"
             ]
            ],
            "type": "surface"
           }
          ],
          "table": [
           {
            "cells": {
             "fill": {
              "color": "#EBF0F8"
             },
             "line": {
              "color": "white"
             }
            },
            "header": {
             "fill": {
              "color": "#C8D4E3"
             },
             "line": {
              "color": "white"
             }
            },
            "type": "table"
           }
          ]
         },
         "layout": {
          "annotationdefaults": {
           "arrowcolor": "#2a3f5f",
           "arrowhead": 0,
           "arrowwidth": 1
          },
          "autotypenumbers": "strict",
          "coloraxis": {
           "colorbar": {
            "outlinewidth": 0,
            "ticks": ""
           }
          },
          "colorscale": {
           "diverging": [
            [
             0,
             "#8e0152"
            ],
            [
             0.1,
             "#c51b7d"
            ],
            [
             0.2,
             "#de77ae"
            ],
            [
             0.3,
             "#f1b6da"
            ],
            [
             0.4,
             "#fde0ef"
            ],
            [
             0.5,
             "#f7f7f7"
            ],
            [
             0.6,
             "#e6f5d0"
            ],
            [
             0.7,
             "#b8e186"
            ],
            [
             0.8,
             "#7fbc41"
            ],
            [
             0.9,
             "#4d9221"
            ],
            [
             1,
             "#276419"
            ]
           ],
           "sequential": [
            [
             0,
             "#0d0887"
            ],
            [
             0.1111111111111111,
             "#46039f"
            ],
            [
             0.2222222222222222,
             "#7201a8"
            ],
            [
             0.3333333333333333,
             "#9c179e"
            ],
            [
             0.4444444444444444,
             "#bd3786"
            ],
            [
             0.5555555555555556,
             "#d8576b"
            ],
            [
             0.6666666666666666,
             "#ed7953"
            ],
            [
             0.7777777777777778,
             "#fb9f3a"
            ],
            [
             0.8888888888888888,
             "#fdca26"
            ],
            [
             1,
             "#f0f921"
            ]
           ],
           "sequentialminus": [
            [
             0,
             "#0d0887"
            ],
            [
             0.1111111111111111,
             "#46039f"
            ],
            [
             0.2222222222222222,
             "#7201a8"
            ],
            [
             0.3333333333333333,
             "#9c179e"
            ],
            [
             0.4444444444444444,
             "#bd3786"
            ],
            [
             0.5555555555555556,
             "#d8576b"
            ],
            [
             0.6666666666666666,
             "#ed7953"
            ],
            [
             0.7777777777777778,
             "#fb9f3a"
            ],
            [
             0.8888888888888888,
             "#fdca26"
            ],
            [
             1,
             "#f0f921"
            ]
           ]
          },
          "colorway": [
           "#636efa",
           "#EF553B",
           "#00cc96",
           "#ab63fa",
           "#FFA15A",
           "#19d3f3",
           "#FF6692",
           "#B6E880",
           "#FF97FF",
           "#FECB52"
          ],
          "font": {
           "color": "#2a3f5f"
          },
          "geo": {
           "bgcolor": "white",
           "lakecolor": "white",
           "landcolor": "#E5ECF6",
           "showlakes": true,
           "showland": true,
           "subunitcolor": "white"
          },
          "hoverlabel": {
           "align": "left"
          },
          "hovermode": "closest",
          "mapbox": {
           "style": "light"
          },
          "paper_bgcolor": "white",
          "plot_bgcolor": "#E5ECF6",
          "polar": {
           "angularaxis": {
            "gridcolor": "white",
            "linecolor": "white",
            "ticks": ""
           },
           "bgcolor": "#E5ECF6",
           "radialaxis": {
            "gridcolor": "white",
            "linecolor": "white",
            "ticks": ""
           }
          },
          "scene": {
           "xaxis": {
            "backgroundcolor": "#E5ECF6",
            "gridcolor": "white",
            "gridwidth": 2,
            "linecolor": "white",
            "showbackground": true,
            "ticks": "",
            "zerolinecolor": "white"
           },
           "yaxis": {
            "backgroundcolor": "#E5ECF6",
            "gridcolor": "white",
            "gridwidth": 2,
            "linecolor": "white",
            "showbackground": true,
            "ticks": "",
            "zerolinecolor": "white"
           },
           "zaxis": {
            "backgroundcolor": "#E5ECF6",
            "gridcolor": "white",
            "gridwidth": 2,
            "linecolor": "white",
            "showbackground": true,
            "ticks": "",
            "zerolinecolor": "white"
           }
          },
          "shapedefaults": {
           "line": {
            "color": "#2a3f5f"
           }
          },
          "ternary": {
           "aaxis": {
            "gridcolor": "white",
            "linecolor": "white",
            "ticks": ""
           },
           "baxis": {
            "gridcolor": "white",
            "linecolor": "white",
            "ticks": ""
           },
           "bgcolor": "#E5ECF6",
           "caxis": {
            "gridcolor": "white",
            "linecolor": "white",
            "ticks": ""
           }
          },
          "title": {
           "x": 0.05
          },
          "xaxis": {
           "automargin": true,
           "gridcolor": "white",
           "linecolor": "white",
           "ticks": "",
           "title": {
            "standoff": 15
           },
           "zerolinecolor": "white",
           "zerolinewidth": 2
          },
          "yaxis": {
           "automargin": true,
           "gridcolor": "white",
           "linecolor": "white",
           "ticks": "",
           "title": {
            "standoff": 15
           },
           "zerolinecolor": "white",
           "zerolinewidth": 2
          }
         }
        },
        "xaxis": {
         "anchor": "y",
         "autorange": true,
         "constrain": "domain",
         "domain": [
          0,
          1
         ],
         "range": [
          -0.5,
          9.5
         ],
         "scaleanchor": "y",
         "tickangle": 30,
         "title": {
          "text": "Token"
         },
         "type": "category"
        },
        "yaxis": {
         "anchor": "x",
         "autorange": true,
         "constrain": "domain",
         "domain": [
          0,
          1
         ],
         "range": [
          39.5,
          -0.5
         ],
         "title": {
          "text": "Layer"
         }
        }
       }
      },
      "image/png": "[encoded data removed]",
      "text/html": [
       "<div>                            <div id=\"d2016ec2-4157-492b-88d9-7defc2bec7d6\" class=\"plotly-graph-div\" style=\"height:525px; width:100%;\"></div>            <script type=\"text/javascript\">                require([\"plotly\"], function(Plotly) {                    window.PLOTLYENV=window.PLOTLYENV || {};                                    if (document.getElementById(\"d2016ec2-4157-492b-88d9-7defc2bec7d6\")) {                    Plotly.newPlot(                        \"d2016ec2-4157-492b-88d9-7defc2bec7d6\",                        [{\"coloraxis\":\"coloraxis\",\"name\":\"0\",\"x\":[\"He (138)\",\"is (139)\",\"a (140)\",\"normal (141)\",\"student (142)\",\". (143)\",\"This (144)\",\"statement (145)\",\"is (146)\",\": (147)\"],\"z\":[[-1.375,-1.375,-1.375,0.75,-1.5,-1.375,-1.375,-1.375,-1.5,-1.375],[-1.375,-1.375,-1.375,0.75,-1.375,-1.5,-1.5,-1.375,-1.375,-1.375],[-1.375,-1.375,-1.375,0.75,-1.375,-1.5,-1.375,-1.5,-1.375,-1.375],[-1.375,-1.375,-1.375,0.625,-1.25,-1.375,-1.5,-1.5,-1.375,-1.375],[-1.375,-1.375,-1.375,0.5,-1.125,-1.125,-1.5,-1.5,-1.375,-1.375],[-1.375,-1.375,-1.375,0.5,-1.125,-1.125,-1.375,-1.5,-1.375,-1.5],[-1.375,-1.375,-1.375,0.25,-1.0,-0.875,-1.5,-1.5,-1.5,-1.375],[-1.375,-1.375,-1.375,0.0,-1.125,-0.875,-1.5,-1.5,-1.5,-1.375],[-1.375,-1.375,-1.375,0.0,-1.0,-0.875,-1.5,-1.5,-1.375,-1.375],[-1.375,-1.375,-1.375,-0.25,-0.875,-0.625,-1.375,-1.5,-1.5,-1.375],[-1.375,-1.375,-1.375,-0.375,-1.0,-0.375,-1.375,-1.5,-1.5,-1.25],[-1.375,-1.375,-1.375,-0.875,-1.0,-0.375,-1.375,-1.5,-1.25,-0.5],[-1.375,-1.375,-1.375,-1.125,-1.125,-0.375,-1.5,-1.5,-1.25,-0.25],[-1.375,-1.375,-1.375,-1.25,-1.125,-0.5,-1.5,-1.5,-1.375,0.0],[-1.375,-1.375,-1.375,-1.375,-1.375,-1.125,-1.5,-1.5,-1.25,0.375],[-1.375,-1.375,-1.375,-1.375,-1.25,-1.125,-1.375,-1.5,-1.25,0.5],[-1.375,-1.375,-1.375,-1.5,-1.375,-1.25,-1.375,-1.5,-1.25,0.625],[-1.375,-1.375,-1.375,-1.375,-1.5,-1.375,-1.375,-1.5,-1.25,0.625],[-1.375,-1.375,-1.375,-1.5,-1.5,-1.5,-1.5,-1.375,-1.5,0.75],[-1.375,-1.375,-1.375,-1.5,-1.5,-1.5,-1.5,-1.5,-1.375,0.625],[-1.375,-1.375,-1.375,-1.5,-1.5,-1.5,-1.375,-1.375,-1.375,0.625],[-1.375,-1.375,-1.375,-1.5,-1.5,-1.5,-1.5,-1.5,-1.375,0.625],[-1.375,-1.375,-1.375,-1.5,-1.5,-1.5,-1.375,-1.375,-1.375,0.625],[-1.375,-1.375,-1.375,-1.5,-1.5,-1.5,-1.5,-1.5,-1.5,0.625],[-1.375,-1.375,-1.375,-1.375,-1.5,-1.5,-1.5,-1.5,-1.5,0.625],[-1.375,-1.375,-1.375,-1.5,-1.5,-1.5,-1.5,-1.5,-1.375,0.625],[-1.375,-1.375,-1.375,-1.5,-1.5,-1.5,-1.5,-1.5,-1.5,0.625],[-1.375,-1.375,-1.375,-1.5,-1.5,-1.5,-1.5,-1.5,-1.375,0.625],[-1.375,-1.375,-1.375,-1.5,-1.5,-1.5,-1.375,-1.5,-1.5,0.625],[-1.375,-1.375,-1.375,-1.5,-1.5,-1.5,-1.5,-1.5,-1.5,0.625],[-1.375,-1.375,-1.375,-1.5,-1.5,-1.5,-1.5,-1.5,-1.375,0.625],[-1.375,-1.375,-1.375,-1.5,-1.5,-1.5,-1.375,-1.5,-1.5,0.625],[-1.375,-1.375,-1.375,-1.5,-1.5,-1.5,-1.5,-1.5,-1.5,0.625],[-1.375,-1.375,-1.375,-1.5,-1.5,-1.5,-1.5,-1.5,-1.5,0.625],[-1.375,-1.375,-1.375,-1.5,-1.5,-1.5,-1.5,-1.5,-1.5,0.625],[-1.375,-1.375,-1.375,-1.5,-1.5,-1.5,-1.5,-1.5,-1.375,0.75],[-1.375,-1.375,-1.375,-1.5,-1.5,-1.5,-1.5,-1.375,-1.5,0.625],[-1.375,-1.375,-1.375,-1.5,-1.5,-1.5,-1.375,-1.375,-1.5,0.625],[-1.375,-1.375,-1.375,-1.5,-1.375,-1.5,-1.375,-1.375,-1.5,0.75],[-1.375,-1.375,-1.375,-1.375,-1.375,-1.375,-1.375,-1.375,-1.375,0.75]],\"type\":\"heatmap\",\"xaxis\":\"x\",\"yaxis\":\"y\",\"hovertemplate\":\"Token: %{x}\\u003cbr\\u003eLayer: %{y}\\u003cbr\\u003ecolor: %{z}\\u003cextra\\u003e\\u003c\\u002fextra\\u003e\"}],                        {\"template\":{\"data\":{\"histogram2dcontour\":[{\"type\":\"histogram2dcontour\",\"colorbar\":{\"outlinewidth\":0,\"ticks\":\"\"},\"colorscale\":[[0.0,\"#0d0887\"],[0.1111111111111111,\"#46039f\"],[0.2222222222222222,\"#7201a8\"],[0.3333333333333333,\"#9c179e\"],[0.4444444444444444,\"#bd3786\"],[0.5555555555555556,\"#d8576b\"],[0.6666666666666666,\"#ed7953\"],[0.7777777777777778,\"#fb9f3a\"],[0.8888888888888888,\"#fdca26\"],[1.0,\"#f0f921\"]]}],\"choropleth\":[{\"type\":\"choropleth\",\"colorbar\":{\"outlinewidth\":0,\"ticks\":\"\"}}],\"histogram2d\":[{\"type\":\"histogram2d\",\"colorbar\":{\"outlinewidth\":0,\"ticks\":\"\"},\"colorscale\":[[0.0,\"#0d0887\"],[0.1111111111111111,\"#46039f\"],[0.2222222222222222,\"#7201a8\"],[0.3333333333333333,\"#9c179e\"],[0.4444444444444444,\"#bd3786\"],[0.5555555555555556,\"#d8576b\"],[0.6666666666666666,\"#ed7953\"],[0.7777777777777778,\"#fb9f3a\"],[0.8888888888888888,\"#fdca26\"],[1.0,\"#f0f921\"]]}],\"heatmap\":[{\"type\":\"heatmap\",\"colorbar\":{\"outlinewidth\":0,\"ticks\":\"\"},\"colorscale\":[[0.0,\"#0d0887\"],[0.1111111111111111,\"#46039f\"],[0.2222222222222222,\"#7201a8\"],[0.3333333333333333,\"#9c179e\"],[0.4444444444444444,\"#bd3786\"],[0.5555555555555556,\"#d8576b\"],[0.6666666666666666,\"#ed7953\"],[0.7777777777777778,\"#fb9f3a\"],[0.8888888888888888,\"#fdca26\"],[1.0,\"#f0f921\"]]}],\"heatmapgl\":[{\"type\":\"heatmapgl\",\"colorbar\":{\"outlinewidth\":0,\"ticks\":\"\"},\"colorscale\":[[0.0,\"#0d0887\"],[0.1111111111111111,\"#46039f\"],[0.2222222222222222,\"#7201a8\"],[0.3333333333333333,\"#9c179e\"],[0.4444444444444444,\"#bd3786\"],[0.5555555555555556,\"#d8576b\"],[0.6666666666666666,\"#ed7953\"],[0.7777777777777778,\"#fb9f3a\"],[0.8888888888888888,\"#fdca26\"],[1.0,\"#f0f921\"]]}],\"contourcarpet\":[{\"type\":\"contourcarpet\",\"colorbar\":{\"outlinewidth\":0,\"ticks\":\"\"}}],\"contour\":[{\"type\":\"contour\",\"colorbar\":{\"outlinewidth\":0,\"ticks\":\"\"},\"colorscale\":[[0.0,\"#0d0887\"],[0.1111111111111111,\"#46039f\"],[0.2222222222222222,\"#7201a8\"],[0.3333333333333333,\"#9c179e\"],[0.4444444444444444,\"#bd3786\"],[0.5555555555555556,\"#d8576b\"],[0.6666666666666666,\"#ed7953\"],[0.7777777777777778,\"#fb9f3a\"],[0.8888888888888888,\"#fdca26\"],[1.0,\"#f0f921\"]]}],\"surface\":[{\"type\":\"surface\",\"colorbar\":{\"outlinewidth\":0,\"ticks\":\"\"},\"colorscale\":[[0.0,\"#0d0887\"],[0.1111111111111111,\"#46039f\"],[0.2222222222222222,\"#7201a8\"],[0.3333333333333333,\"#9c179e\"],[0.4444444444444444,\"#bd3786\"],[0.5555555555555556,\"#d8576b\"],[0.6666666666666666,\"#ed7953\"],[0.7777777777777778,\"#fb9f3a\"],[0.8888888888888888,\"#fdca26\"],[1.0,\"#f0f921\"]]}],\"mesh3d\":[{\"type\":\"mesh3d\",\"colorbar\":{\"outlinewidth\":0,\"ticks\":\"\"}}],\"scatter\":[{\"fillpattern\":{\"fillmode\":\"overlay\",\"size\":10,\"solidity\":0.2},\"type\":\"scatter\"}],\"parcoords\":[{\"type\":\"parcoords\",\"line\":{\"colorbar\":{\"outlinewidth\":0,\"ticks\":\"\"}}}],\"scatterpolargl\":[{\"type\":\"scatterpolargl\",\"marker\":{\"colorbar\":{\"outlinewidth\":0,\"ticks\":\"\"}}}],\"bar\":[{\"error_x\":{\"color\":\"#2a3f5f\"},\"error_y\":{\"color\":\"#2a3f5f\"},\"marker\":{\"line\":{\"color\":\"#E5ECF6\",\"width\":0.5},\"pattern\":{\"fillmode\":\"overlay\",\"size\":10,\"solidity\":0.2}},\"type\":\"bar\"}],\"scattergeo\":[{\"type\":\"scattergeo\",\"marker\":{\"colorbar\":{\"outlinewidth\":0,\"ticks\":\"\"}}}],\"scatterpolar\":[{\"type\":\"scatterpolar\",\"marker\":{\"colorbar\":{\"outlinewidth\":0,\"ticks\":\"\"}}}],\"histogram\":[{\"marker\":{\"pattern\":{\"fillmode\":\"overlay\",\"size\":10,\"solidity\":0.2}},\"type\":\"histogram\"}],\"scattergl\":[{\"type\":\"scattergl\",\"marker\":{\"colorbar\":{\"outlinewidth\":0,\"ticks\":\"\"}}}],\"scatter3d\":[{\"type\":\"scatter3d\",\"line\":{\"colorbar\":{\"outlinewidth\":0,\"ticks\":\"\"}},\"marker\":{\"colorbar\":{\"outlinewidth\":0,\"ticks\":\"\"}}}],\"scattermapbox\":[{\"type\":\"scattermapbox\",\"marker\":{\"colorbar\":{\"outlinewidth\":0,\"ticks\":\"\"}}}],\"scatterternary\":[{\"type\":\"scatterternary\",\"marker\":{\"colorbar\":{\"outlinewidth\":0,\"ticks\":\"\"}}}],\"scattercarpet\":[{\"type\":\"scattercarpet\",\"marker\":{\"colorbar\":{\"outlinewidth\":0,\"ticks\":\"\"}}}],\"carpet\":[{\"aaxis\":{\"endlinecolor\":\"#2a3f5f\",\"gridcolor\":\"white\",\"linecolor\":\"white\",\"minorgridcolor\":\"white\",\"startlinecolor\":\"#2a3f5f\"},\"baxis\":{\"endlinecolor\":\"#2a3f5f\",\"gridcolor\":\"white\",\"linecolor\":\"white\",\"minorgridcolor\":\"white\",\"startlinecolor\":\"#2a3f5f\"},\"type\":\"carpet\"}],\"table\":[{\"cells\":{\"fill\":{\"color\":\"#EBF0F8\"},\"line\":{\"color\":\"white\"}},\"header\":{\"fill\":{\"color\":\"#C8D4E3\"},\"line\":{\"color\":\"white\"}},\"type\":\"table\"}],\"barpolar\":[{\"marker\":{\"line\":{\"color\":\"#E5ECF6\",\"width\":0.5},\"pattern\":{\"fillmode\":\"overlay\",\"size\":10,\"solidity\":0.2}},\"type\":\"barpolar\"}],\"pie\":[{\"automargin\":true,\"type\":\"pie\"}]},\"layout\":{\"autotypenumbers\":\"strict\",\"colorway\":[\"#636efa\",\"#EF553B\",\"#00cc96\",\"#ab63fa\",\"#FFA15A\",\"#19d3f3\",\"#FF6692\",\"#B6E880\",\"#FF97FF\",\"#FECB52\"],\"font\":{\"color\":\"#2a3f5f\"},\"hovermode\":\"closest\",\"hoverlabel\":{\"align\":\"left\"},\"paper_bgcolor\":\"white\",\"plot_bgcolor\":\"#E5ECF6\",\"polar\":{\"bgcolor\":\"#E5ECF6\",\"angularaxis\":{\"gridcolor\":\"white\",\"linecolor\":\"white\",\"ticks\":\"\"},\"radialaxis\":{\"gridcolor\":\"white\",\"linecolor\":\"white\",\"ticks\":\"\"}},\"ternary\":{\"bgcolor\":\"#E5ECF6\",\"aaxis\":{\"gridcolor\":\"white\",\"linecolor\":\"white\",\"ticks\":\"\"},\"baxis\":{\"gridcolor\":\"white\",\"linecolor\":\"white\",\"ticks\":\"\"},\"caxis\":{\"gridcolor\":\"white\",\"linecolor\":\"white\",\"ticks\":\"\"}},\"coloraxis\":{\"colorbar\":{\"outlinewidth\":0,\"ticks\":\"\"}},\"colorscale\":{\"sequential\":[[0.0,\"#0d0887\"],[0.1111111111111111,\"#46039f\"],[0.2222222222222222,\"#7201a8\"],[0.3333333333333333,\"#9c179e\"],[0.4444444444444444,\"#bd3786\"],[0.5555555555555556,\"#d8576b\"],[0.6666666666666666,\"#ed7953\"],[0.7777777777777778,\"#fb9f3a\"],[0.8888888888888888,\"#fdca26\"],[1.0,\"#f0f921\"]],\"sequentialminus\":[[0.0,\"#0d0887\"],[0.1111111111111111,\"#46039f\"],[0.2222222222222222,\"#7201a8\"],[0.3333333333333333,\"#9c179e\"],[0.4444444444444444,\"#bd3786\"],[0.5555555555555556,\"#d8576b\"],[0.6666666666666666,\"#ed7953\"],[0.7777777777777778,\"#fb9f3a\"],[0.8888888888888888,\"#fdca26\"],[1.0,\"#f0f921\"]],\"diverging\":[[0,\"#8e0152\"],[0.1,\"#c51b7d\"],[0.2,\"#de77ae\"],[0.3,\"#f1b6da\"],[0.4,\"#fde0ef\"],[0.5,\"#f7f7f7\"],[0.6,\"#e6f5d0\"],[0.7,\"#b8e186\"],[0.8,\"#7fbc41\"],[0.9,\"#4d9221\"],[1,\"#276419\"]]},\"xaxis\":{\"gridcolor\":\"white\",\"linecolor\":\"white\",\"ticks\":\"\",\"title\":{\"standoff\":15},\"zerolinecolor\":\"white\",\"automargin\":true,\"zerolinewidth\":2},\"yaxis\":{\"gridcolor\":\"white\",\"linecolor\":\"white\",\"ticks\":\"\",\"title\":{\"standoff\":15},\"zerolinecolor\":\"white\",\"automargin\":true,\"zerolinewidth\":2},\"scene\":{\"xaxis\":{\"backgroundcolor\":\"#E5ECF6\",\"gridcolor\":\"white\",\"linecolor\":\"white\",\"showbackground\":true,\"ticks\":\"\",\"zerolinecolor\":\"white\",\"gridwidth\":2},\"yaxis\":{\"backgroundcolor\":\"#E5ECF6\",\"gridcolor\":\"white\",\"linecolor\":\"white\",\"showbackground\":true,\"ticks\":\"\",\"zerolinecolor\":\"white\",\"gridwidth\":2},\"zaxis\":{\"backgroundcolor\":\"#E5ECF6\",\"gridcolor\":\"white\",\"linecolor\":\"white\",\"showbackground\":true,\"ticks\":\"\",\"zerolinecolor\":\"white\",\"gridwidth\":2}},\"shapedefaults\":{\"line\":{\"color\":\"#2a3f5f\"}},\"annotationdefaults\":{\"arrowcolor\":\"#2a3f5f\",\"arrowhead\":0,\"arrowwidth\":1},\"geo\":{\"bgcolor\":\"white\",\"landcolor\":\"#E5ECF6\",\"subunitcolor\":\"white\",\"showland\":true,\"showlakes\":true,\"lakecolor\":\"white\"},\"title\":{\"x\":0.05},\"mapbox\":{\"style\":\"light\"}}},\"xaxis\":{\"anchor\":\"y\",\"domain\":[0.0,1.0],\"scaleanchor\":\"y\",\"constrain\":\"domain\",\"title\":{\"text\":\"Token\"},\"tickangle\":30},\"yaxis\":{\"anchor\":\"x\",\"domain\":[0.0,1.0],\"autorange\":\"reversed\",\"constrain\":\"domain\",\"title\":{\"text\":\"Layer\"}},\"coloraxis\":{\"colorscale\":[[0.0,\"rgb(247,251,255)\"],[0.125,\"rgb(222,235,247)\"],[0.25,\"rgb(198,219,239)\"],[0.375,\"rgb(158,202,225)\"],[0.5,\"rgb(107,174,214)\"],[0.625,\"rgb(66,146,198)\"],[0.75,\"rgb(33,113,181)\"],[0.875,\"rgb(8,81,156)\"],[1.0,\"rgb(8,48,107)\"]],\"cmin\":-1.5,\"cmax\":1},\"margin\":{\"t\":60}},                        {\"responsive\": true}                    ).then(function(){\n",
       "                            \n",
       "var gd = document.getElementById('d2016ec2-4157-492b-88d9-7defc2bec7d6');\n",
       "var x = new MutationObserver(function (mutations, observer) {{\n",
       "        var display = window.getComputedStyle(gd).display;\n",
       "        if (!display || display === 'none') {{\n",
       "            console.log([gd, 'removed!']);\n",
       "            Plotly.purge(gd);\n",
       "            observer.disconnect();\n",
       "        }}\n",
       "}});\n",
       "\n",
       "// Listen for the removal of the full notebook cells\n",
       "var notebookContainer = gd.closest('#notebook-container');\n",
       "if (notebookContainer) {{\n",
       "    x.observe(notebookContainer, {childList: true});\n",
       "}}\n",
       "\n",
       "// Listen for the clearing of the current output cell\n",
       "var outputEl = gd.closest('.output');\n",
       "if (outputEl) {{\n",
       "    x.observe(outputEl, {childList: true});\n",
       "}}\n",
       "\n",
       "                        })                };                });            </script>        </div>"
      ]
     },
     "metadata": {},
     "output_type": "display_data"
    }
   ],
   "source": [
    "experiment_name = \"stereotype6\"\n",
    "# model = LanguageModel(\"/scratch-shared/tpungas/llama-13b\")\n",
    "\n",
    "with open('experimental_outputs/patching/{}.json'.format(experiment_name), 'r') as f:\n",
    "    out = json.load(f)[-1]\n",
    "false_prompt = out['false_prompt']\n",
    "logit_diffs = out['logit_diffs']\n",
    "n_toks = len(logit_diffs)\n",
    "model_name = out['model']\n",
    "\n",
    "# transpose logit_diffs\n",
    "logit_diffs = [[logit_diffs[i][j] for i in range(0, len(logit_diffs))[::-1]] for j in range(len(logit_diffs[0]))]\n",
    "probs = [[1 / (1 + np.exp(-logit)) for logit in layer] for layer in logit_diffs]\n",
    "\n",
    "# token_ids = model.tokenizer(false_prompt)['input_ids']\n",
    "# tokens = [model.tokenizer.decode([token_id]) + f\" ({idx})\" for idx, token_id in enumerate(token_ids)]\n",
    "# tokens = tokens[-n_toks:]\n",
    "tokens = \"He is a normal student . This statement is :\".split(\" \")\n",
    "tokens = [token + \" (\" + str(138+i) + \")\" for i, token in enumerate(tokens)]\n",
    "\n",
    "fig = px.imshow(\n",
    "    logit_diffs,\n",
    "    x=tokens,\n",
    "    labels=dict(x=\"Token\", y=\"Layer\"),\n",
    "    color_continuous_scale='blues',\n",
    "    range_color=[-1.5, 1] # select a good range to make the plot nicer\n",
    ")\n",
    "\n",
    "fig.update_xaxes(tickangle=30)\n",
    "\n",
    "# Change font size\n",
    "#fig.update_layout(\n",
    "#    font=dict(\n",
    "#        #family=\"Courier New, monospace\",\n",
    "#        size=14,\n",
    "#        #color=\"RebeccaPurple\"\n",
    "#    )\n",
    "#)\n",
    "\n",
    "fig.show()\n",
    "fig.write_image(\"figures/{}_improved.png\".format(experiment_name), scale=3)"
   ]
  },
  {
   "cell_type": "code",
   "execution_count": 14,
   "metadata": {},
   "outputs": [
    {
     "data": {
      "text/plain": [
       "0.75"
      ]
     },
     "execution_count": 14,
     "metadata": {},
     "output_type": "execute_result"
    }
   ],
   "source": [
    "all_diffs = [d for sublist in logit_diffs for d in sublist]\n",
    "max(all_diffs)"
   ]
  }
 ],
 "metadata": {
  "kernelspec": {
   "display_name": "Python 3 (ipykernel)",
   "language": "python",
   "name": "python3"
  },
  "language_info": {
   "codemirror_mode": {
    "name": "ipython",
    "version": 3
   },
   "file_extension": ".py",
   "mimetype": "text/x-python",
   "name": "python",
   "nbconvert_exporter": "python",
   "pygments_lexer": "ipython3",
   "version": "3.10.4"
  }
 },
 "nbformat": 4,
 "nbformat_minor": 4
}
